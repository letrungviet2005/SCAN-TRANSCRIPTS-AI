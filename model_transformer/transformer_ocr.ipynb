{
  "cells": [
    {
      "cell_type": "markdown",
      "metadata": {
        "colab_type": "text",
        "id": "view-in-github"
      },
      "source": [
        "<a href=\"https://colab.research.google.com/github/pbcquoc/vietocr/blob/master/vietocr_gettingstart.ipynb\" target=\"_parent\"><img src=\"https://colab.research.google.com/assets/colab-badge.svg\" alt=\"Open In Colab\"/></a>"
      ]
    },
    {
      "cell_type": "code",
      "execution_count": null,
      "metadata": {
        "colab": {
          "base_uri": "https://localhost:8080/"
        },
        "id": "xEBHav_aljVN",
        "outputId": "764046f5-5629-4840-b75a-531187e72452"
      },
      "outputs": [],
      "source": [
        "! pip install --quiet vietocr"
      ]
    },
    {
      "cell_type": "code",
      "execution_count": 2,
      "metadata": {
        "id": "KsuT5Sa-xio8"
      },
      "outputs": [],
      "source": [
        "import matplotlib.pyplot as plt\n",
        "from PIL import Image\n",
        "\n",
        "from vietocr.tool.predictor import Predictor\n",
        "from vietocr.tool.config import Cfg"
      ]
    },
    {
      "cell_type": "code",
      "execution_count": 3,
      "metadata": {
        "id": "J7u5QgLWxipC"
      },
      "outputs": [],
      "source": [
        "config = Cfg.load_config_from_name('vgg_transformer')"
      ]
    },
    {
      "cell_type": "code",
      "execution_count": 4,
      "metadata": {
        "id": "UjiubW0gxipL"
      },
      "outputs": [],
      "source": [
        "# config['weights'] = './weights/transformerocr.pth'\n",
        "config['cnn']['pretrained']=False\n",
        "config['device'] = 'cuda:0'"
      ]
    },
    {
      "cell_type": "code",
      "execution_count": null,
      "metadata": {
        "colab": {
          "base_uri": "https://localhost:8080/"
        },
        "id": "HjHpH99TxipQ",
        "outputId": "34ad82f3-053e-4267-8ed8-51f3813351ec"
      },
      "outputs": [],
      "source": [
        "detector = Predictor(config)"
      ]
    },
    {
      "cell_type": "code",
      "execution_count": null,
      "metadata": {},
      "outputs": [],
      "source": [
        "! wget https://vocr.vn/data/vietocr/data_line.zip"
      ]
    },
    {
      "cell_type": "code",
      "execution_count": null,
      "metadata": {},
      "outputs": [],
      "source": [
        "! unzip -qq -o ./data_line.zip"
      ]
    },
    {
      "cell_type": "code",
      "execution_count": null,
      "metadata": {
        "id": "jMwREzEvm_jd"
      },
      "outputs": [],
      "source": [
        "from vietocr.tool.config import Cfg\n",
        "from vietocr.model.trainer import Trainer"
      ]
    },
    {
      "cell_type": "code",
      "execution_count": null,
      "metadata": {
        "id": "56VBD-Xy_ztj"
      },
      "outputs": [],
      "source": [
        "config = Cfg.load_config_from_name('vgg_transformer')"
      ]
    },
    {
      "cell_type": "code",
      "execution_count": null,
      "metadata": {
        "id": "ceKcT5eOnJ1G"
      },
      "outputs": [],
      "source": [
        "\n",
        "dataset_params = {\n",
        "    'name':'hw',\n",
        "    'data_root':'./data_line/',\n",
        "    'train_annotation':'train_line_annotation.txt',\n",
        "    'valid_annotation':'test_line_annotation.txt'\n",
        "}\n",
        "\n",
        "params = {\n",
        "         'print_every':200,\n",
        "         'valid_every':15*200,\n",
        "          'iters':20000,\n",
        "          'checkpoint':'./checkpoint/transformerocr_checkpoint.pth',\n",
        "          'export':'./weights/transformerocr.pth',\n",
        "          'metrics': 10000\n",
        "         }\n",
        "\n",
        "config['trainer'].update(params)\n",
        "config['dataset'].update(dataset_params)\n",
        "config['device'] = 'cuda:0'"
      ]
    },
    {
      "cell_type": "code",
      "execution_count": null,
      "metadata": {
        "colab": {
          "base_uri": "https://localhost:8080/"
        },
        "id": "AwHpqqQEnHv1",
        "outputId": "77611a1a-80d0-43ed-9b3a-e765cf813bde"
      },
      "outputs": [],
      "source": [
        "config"
      ]
    },
    {
      "cell_type": "code",
      "execution_count": null,
      "metadata": {
        "colab": {
          "base_uri": "https://localhost:8080/"
        },
        "id": "xtOyT8Cpo1gl",
        "outputId": "a5ab22d9-2da0-4d02-f594-537e72c191e0"
      },
      "outputs": [],
      "source": [
        "trainer = Trainer(config, pretrained=True)"
      ]
    },
    {
      "cell_type": "code",
      "execution_count": null,
      "metadata": {
        "id": "Potem8SsojYM"
      },
      "outputs": [],
      "source": [
        "trainer.config.save('config.yml')"
      ]
    },
    {
      "cell_type": "code",
      "execution_count": null,
      "metadata": {
        "colab": {
          "base_uri": "https://localhost:8080/",
          "height": 1000
        },
        "id": "OET9Vh8XxiqV",
        "outputId": "725badc9-41dd-404f-c2a3-78e3074d0af5"
      },
      "outputs": [],
      "source": [
        "trainer.visualize_dataset()"
      ]
    },
    {
      "cell_type": "code",
      "execution_count": null,
      "metadata": {
        "colab": {
          "base_uri": "https://localhost:8080/",
          "height": 338
        },
        "id": "fpZEz_DPpV6y",
        "outputId": "30034eea-73ef-4388-cea7-f8a35c6808e3"
      },
      "outputs": [],
      "source": [
        "trainer.train()"
      ]
    },
    {
      "cell_type": "code",
      "execution_count": null,
      "metadata": {
        "id": "Zeai5W02qXA9"
      },
      "outputs": [],
      "source": [
        "trainer.visualize_prediction()"
      ]
    },
    {
      "cell_type": "code",
      "execution_count": null,
      "metadata": {
        "id": "eM806O42q_aT"
      },
      "outputs": [],
      "source": [
        "trainer.precision()"
      ]
    }
  ],
  "metadata": {
    "accelerator": "GPU",
    "colab": {
      "include_colab_link": true,
      "name": "vietocr_gettingstart.ipynb",
      "provenance": []
    },
    "kernelspec": {
      "display_name": "Python 3",
      "language": "python",
      "name": "python3"
    },
    "language_info": {
      "codemirror_mode": {
        "name": "ipython",
        "version": 3
      },
      "file_extension": ".py",
      "mimetype": "text/x-python",
      "name": "python",
      "nbconvert_exporter": "python",
      "pygments_lexer": "ipython3",
      "version": "3.11.0"
    }
  },
  "nbformat": 4,
  "nbformat_minor": 0
}
